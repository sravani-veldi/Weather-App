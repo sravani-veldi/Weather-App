{
 "cells": [
  {
   "cell_type": "code",
   "execution_count": 3,
   "id": "79360c12",
   "metadata": {},
   "outputs": [
    {
     "name": "stdout",
     "output_type": "stream",
     "text": [
      "Enter city name: jaipur\n",
      "\n",
      " Weather in Jaipur:\n",
      "\n",
      "Temperature   : 41.64 °C\n",
      "Humidity      : 8 %\n",
      "Description   : Scattered clouds\n",
      "Wind Speed    : 7.08 m/s\n"
     ]
    }
   ],
   "source": [
    "import requests\n",
    "\n",
    "def get_weather(city_name, api_key):\n",
    "    base_url = \"http://api.openweathermap.org/data/2.5/weather\"\n",
    "    params = {\n",
    "        'q': city_name,\n",
    "        'appid': api_key,\n",
    "        'units': 'metric'\n",
    "    }\n",
    "    response = requests.get(base_url, params=params)\n",
    "\n",
    "    if response.status_code == 200:\n",
    "        data = response.json()\n",
    "        main = data['main']\n",
    "        weather = data['weather'][0]\n",
    "        wind = data['wind']\n",
    "\n",
    "        print(f\"\\n🌤 Weather in {city_name.capitalize()}:\\n\")\n",
    "        print(f\"Temperature   : {main['temp']} °C\")\n",
    "        print(f\"Humidity      : {main['humidity']} %\")\n",
    "        print(f\"Description   : {weather['description'].capitalize()}\")\n",
    "        print(f\"Wind Speed    : {wind['speed']} m/s\")\n",
    "    else:\n",
    "        print(\" City not found or API error. Check the city name or your API key.\")\n",
    "\n",
    "api_key = \"e6bdb7bbe74643d06cdf5ab96a28e0a9\"\n",
    "\n",
    "city = input(\"Enter city name: \")\n",
    "get_weather(city, api_key)\n"
   ]
  },
  {
   "cell_type": "code",
   "execution_count": null,
   "id": "30b0625c",
   "metadata": {},
   "outputs": [],
   "source": []
  }
 ],
 "metadata": {
  "kernelspec": {
   "display_name": "Python 3 (ipykernel)",
   "language": "python",
   "name": "python3"
  },
  "language_info": {
   "codemirror_mode": {
    "name": "ipython",
    "version": 3
   },
   "file_extension": ".py",
   "mimetype": "text/x-python",
   "name": "python",
   "nbconvert_exporter": "python",
   "pygments_lexer": "ipython3",
   "version": "3.11.3"
  }
 },
 "nbformat": 4,
 "nbformat_minor": 5
}
